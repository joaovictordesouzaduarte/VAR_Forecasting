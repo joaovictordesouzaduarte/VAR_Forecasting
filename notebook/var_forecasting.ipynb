{
 "cells": [
  {
   "cell_type": "markdown",
   "source": [
    "# **0. Imports**"
   ],
   "metadata": {}
  },
  {
   "cell_type": "code",
   "execution_count": 2,
   "source": [
    "import pandas as pd\r\n",
    "import numpy as np\r\n",
    "from datetime import datetime\r\n",
    "from scipy.stats import pearsonr\r\n",
    "#from statsmodels.graphics.tsaplots import plot_acf, plot_pacf\r\n",
    "#from statsmodels.tsa.api import VAR\r\n",
    "import matplotlib.pyplot as plt\r\n",
    "from statsmodels.tsa.stattools import adfuller"
   ],
   "outputs": [],
   "metadata": {}
  },
  {
   "cell_type": "markdown",
   "source": [
    "## **0.1 Load Dataset**"
   ],
   "metadata": {}
  },
  {
   "cell_type": "code",
   "execution_count": 141,
   "source": [
    "data = pd.read_csv('../data/data_trab2_econometria.csv', parse_dates=['Data'])\r\n",
    "crb = pd.read_csv('../data/^cry_m.csv')\r\n",
    "data.head()"
   ],
   "outputs": [
    {
     "output_type": "execute_result",
     "data": {
      "text/html": [
       "<div>\n",
       "<style scoped>\n",
       "    .dataframe tbody tr th:only-of-type {\n",
       "        vertical-align: middle;\n",
       "    }\n",
       "\n",
       "    .dataframe tbody tr th {\n",
       "        vertical-align: top;\n",
       "    }\n",
       "\n",
       "    .dataframe thead th {\n",
       "        text-align: right;\n",
       "    }\n",
       "</style>\n",
       "<table border=\"1\" class=\"dataframe\">\n",
       "  <thead>\n",
       "    <tr style=\"text-align: right;\">\n",
       "      <th></th>\n",
       "      <th>Data</th>\n",
       "      <th>inflacao</th>\n",
       "      <th>cambio</th>\n",
       "      <th>juros</th>\n",
       "    </tr>\n",
       "  </thead>\n",
       "  <tbody>\n",
       "    <tr>\n",
       "      <th>0</th>\n",
       "      <td>2003-01-01</td>\n",
       "      <td>1,98</td>\n",
       "      <td>3,44</td>\n",
       "      <td>26,38</td>\n",
       "    </tr>\n",
       "    <tr>\n",
       "      <th>1</th>\n",
       "      <td>2003-01-01</td>\n",
       "      <td>2,19</td>\n",
       "      <td>3,59</td>\n",
       "      <td>24,31</td>\n",
       "    </tr>\n",
       "    <tr>\n",
       "      <th>2</th>\n",
       "      <td>2003-01-01</td>\n",
       "      <td>1,14</td>\n",
       "      <td>3,45</td>\n",
       "      <td>23,58</td>\n",
       "    </tr>\n",
       "    <tr>\n",
       "      <th>3</th>\n",
       "      <td>2003-01-01</td>\n",
       "      <td>1,14</td>\n",
       "      <td>3,12</td>\n",
       "      <td>24,90</td>\n",
       "    </tr>\n",
       "    <tr>\n",
       "      <th>4</th>\n",
       "      <td>2003-01-01</td>\n",
       "      <td>0,85</td>\n",
       "      <td>2,95</td>\n",
       "      <td>26,38</td>\n",
       "    </tr>\n",
       "  </tbody>\n",
       "</table>\n",
       "</div>"
      ],
      "text/plain": [
       "        Data inflacao cambio  juros\n",
       "0 2003-01-01     1,98   3,44  26,38\n",
       "1 2003-01-01     2,19   3,59  24,31\n",
       "2 2003-01-01     1,14   3,45  23,58\n",
       "3 2003-01-01     1,14   3,12  24,90\n",
       "4 2003-01-01     0,85   2,95  26,38"
      ]
     },
     "metadata": {},
     "execution_count": 141
    }
   ],
   "metadata": {}
  },
  {
   "cell_type": "markdown",
   "source": [
    "# **1.0 Data Description**"
   ],
   "metadata": {}
  },
  {
   "cell_type": "code",
   "execution_count": 142,
   "source": [
    "df1 = data.copy()"
   ],
   "outputs": [],
   "metadata": {}
  },
  {
   "cell_type": "markdown",
   "source": [
    "## **1.1 Rename columns**"
   ],
   "metadata": {}
  },
  {
   "cell_type": "code",
   "execution_count": 143,
   "source": [
    "cols_new = ['date','cpi', 'exchange_rate','interest_rate']\r\n",
    "df1.columns = cols_new"
   ],
   "outputs": [],
   "metadata": {}
  },
  {
   "cell_type": "markdown",
   "source": [
    "## **1.2 Data Dimensions**"
   ],
   "metadata": {}
  },
  {
   "cell_type": "code",
   "execution_count": 144,
   "source": [
    "print('Number of rows:', format(df1.shape[0]))\r\n",
    "print('Number of columns:', format(df1.shape[1]))"
   ],
   "outputs": [
    {
     "output_type": "stream",
     "name": "stdout",
     "text": [
      "Number of rows: 223\n",
      "Number of columns: 4\n"
     ]
    }
   ],
   "metadata": {}
  },
  {
   "cell_type": "markdown",
   "source": [
    "## **1.3 Data types**"
   ],
   "metadata": {}
  },
  {
   "cell_type": "code",
   "execution_count": 145,
   "source": [
    "df1.dtypes"
   ],
   "outputs": [
    {
     "output_type": "execute_result",
     "data": {
      "text/plain": [
       "date             datetime64[ns]\n",
       "cpi                      object\n",
       "exchange_rate            object\n",
       "interest_rate            object\n",
       "dtype: object"
      ]
     },
     "metadata": {},
     "execution_count": 145
    }
   ],
   "metadata": {}
  },
  {
   "cell_type": "markdown",
   "source": [
    "## **1.4 Check NA**"
   ],
   "metadata": {}
  },
  {
   "cell_type": "code",
   "execution_count": 146,
   "source": [
    "df1.isna().sum()"
   ],
   "outputs": [
    {
     "output_type": "execute_result",
     "data": {
      "text/plain": [
       "date             0\n",
       "cpi              0\n",
       "exchange_rate    0\n",
       "interest_rate    0\n",
       "dtype: int64"
      ]
     },
     "metadata": {},
     "execution_count": 146
    }
   ],
   "metadata": {}
  },
  {
   "cell_type": "markdown",
   "source": [
    "## **1.5 Change Types**"
   ],
   "metadata": {}
  },
  {
   "cell_type": "code",
   "execution_count": 147,
   "source": [
    "df1['date'] = pd.to_datetime(df1['date'].astype(str))\r\n",
    "#change comma to point decimal\r\n",
    "\r\n",
    "cols = ['cpi', 'exchange_rate', 'interest_rate']\r\n",
    "\r\n",
    "for col in cols:\r\n",
    "    df1[col] = df1[col].apply(lambda x: x.replace(',', '.'))\r\n",
    "\r\n"
   ],
   "outputs": [],
   "metadata": {}
  },
  {
   "cell_type": "code",
   "execution_count": 148,
   "source": [
    "df1['cpi'] = df1['cpi'].astype('float64')\r\n",
    "df1['exchange_rate'] = df1['exchange_rate'].astype('float64')\r\n",
    "df1['interest_rate'] = df1['interest_rate'].astype('float64')\r\n"
   ],
   "outputs": [],
   "metadata": {}
  },
  {
   "cell_type": "markdown",
   "source": [
    "## **1.6 Descriptive Statistical**"
   ],
   "metadata": {}
  },
  {
   "cell_type": "code",
   "execution_count": 149,
   "source": [
    "num_attributes = df1.select_dtypes(include = ['int64', 'float64'])\r\n",
    "cat_attributes = df1.select_dtypes( exclude=['int64', 'float64', 'datetime64[ns]'])\r\n",
    "num_attributes"
   ],
   "outputs": [
    {
     "output_type": "execute_result",
     "data": {
      "text/html": [
       "<div>\n",
       "<style scoped>\n",
       "    .dataframe tbody tr th:only-of-type {\n",
       "        vertical-align: middle;\n",
       "    }\n",
       "\n",
       "    .dataframe tbody tr th {\n",
       "        vertical-align: top;\n",
       "    }\n",
       "\n",
       "    .dataframe thead th {\n",
       "        text-align: right;\n",
       "    }\n",
       "</style>\n",
       "<table border=\"1\" class=\"dataframe\">\n",
       "  <thead>\n",
       "    <tr style=\"text-align: right;\">\n",
       "      <th></th>\n",
       "      <th>cpi</th>\n",
       "      <th>exchange_rate</th>\n",
       "      <th>interest_rate</th>\n",
       "    </tr>\n",
       "  </thead>\n",
       "  <tbody>\n",
       "    <tr>\n",
       "      <th>0</th>\n",
       "      <td>1.98</td>\n",
       "      <td>3.44</td>\n",
       "      <td>26.38</td>\n",
       "    </tr>\n",
       "    <tr>\n",
       "      <th>1</th>\n",
       "      <td>2.19</td>\n",
       "      <td>3.59</td>\n",
       "      <td>24.31</td>\n",
       "    </tr>\n",
       "    <tr>\n",
       "      <th>2</th>\n",
       "      <td>1.14</td>\n",
       "      <td>3.45</td>\n",
       "      <td>23.58</td>\n",
       "    </tr>\n",
       "    <tr>\n",
       "      <th>3</th>\n",
       "      <td>1.14</td>\n",
       "      <td>3.12</td>\n",
       "      <td>24.90</td>\n",
       "    </tr>\n",
       "    <tr>\n",
       "      <th>4</th>\n",
       "      <td>0.85</td>\n",
       "      <td>2.95</td>\n",
       "      <td>26.38</td>\n",
       "    </tr>\n",
       "    <tr>\n",
       "      <th>...</th>\n",
       "      <td>...</td>\n",
       "      <td>...</td>\n",
       "      <td>...</td>\n",
       "    </tr>\n",
       "    <tr>\n",
       "      <th>218</th>\n",
       "      <td>0.93</td>\n",
       "      <td>5.65</td>\n",
       "      <td>2.43</td>\n",
       "    </tr>\n",
       "    <tr>\n",
       "      <th>219</th>\n",
       "      <td>0.60</td>\n",
       "      <td>5.56</td>\n",
       "      <td>2.55</td>\n",
       "    </tr>\n",
       "    <tr>\n",
       "      <th>220</th>\n",
       "      <td>0.44</td>\n",
       "      <td>5.29</td>\n",
       "      <td>3.29</td>\n",
       "    </tr>\n",
       "    <tr>\n",
       "      <th>221</th>\n",
       "      <td>0.83</td>\n",
       "      <td>5.03</td>\n",
       "      <td>3.78</td>\n",
       "    </tr>\n",
       "    <tr>\n",
       "      <th>222</th>\n",
       "      <td>0.72</td>\n",
       "      <td>5.16</td>\n",
       "      <td>4.41</td>\n",
       "    </tr>\n",
       "  </tbody>\n",
       "</table>\n",
       "<p>223 rows × 3 columns</p>\n",
       "</div>"
      ],
      "text/plain": [
       "      cpi  exchange_rate  interest_rate\n",
       "0    1.98           3.44          26.38\n",
       "1    2.19           3.59          24.31\n",
       "2    1.14           3.45          23.58\n",
       "3    1.14           3.12          24.90\n",
       "4    0.85           2.95          26.38\n",
       "..    ...            ...            ...\n",
       "218  0.93           5.65           2.43\n",
       "219  0.60           5.56           2.55\n",
       "220  0.44           5.29           3.29\n",
       "221  0.83           5.03           3.78\n",
       "222  0.72           5.16           4.41\n",
       "\n",
       "[223 rows x 3 columns]"
      ]
     },
     "metadata": {},
     "execution_count": 149
    }
   ],
   "metadata": {}
  },
  {
   "cell_type": "markdown",
   "source": [
    "### **1.5.1 Numerical Attributes**"
   ],
   "metadata": {}
  },
  {
   "cell_type": "code",
   "execution_count": 150,
   "source": [
    "#Central Tendency\r\n",
    "ct1 = pd.DataFrame(num_attributes.apply(np.mean)).T\r\n",
    "ct2 = pd.DataFrame(num_attributes.apply(np.median)).T\r\n",
    "\r\n",
    "\r\n",
    "#Dispersion\r\n",
    "d1 = pd.DataFrame(num_attributes.apply(np.std)).T\r\n",
    "d2 = pd.DataFrame(num_attributes.apply(min)).T\r\n",
    "d3 = pd.DataFrame(num_attributes.apply(max)).T\r\n",
    "d4 = pd.DataFrame(num_attributes.apply(lambda x: x.max() - x.min())).T\r\n",
    "d5 = pd.DataFrame(num_attributes.apply(lambda x: x.skew())).T\r\n",
    "d6 = pd.DataFrame(num_attributes.apply(lambda x: x.kurtosis())).T\r\n",
    "\r\n",
    "#Concat\r\n",
    "m = pd.concat([d1, d2, d3, d4, ct1, ct2, d5, d6]).T.reset_index()\r\n",
    "#m.columns = ['attributes', 'min', 'max', 'range', 'mean', 'median', 'std', 'skew', 'kurtosis']\r\n",
    "#m\r\n",
    "m.columns = ['Attributes', 'Std', 'min', 'max', 'Range', 'mean', 'median', 'Skew', 'Kurtosis']\r\n",
    "m"
   ],
   "outputs": [
    {
     "output_type": "execute_result",
     "data": {
      "text/html": [
       "<div>\n",
       "<style scoped>\n",
       "    .dataframe tbody tr th:only-of-type {\n",
       "        vertical-align: middle;\n",
       "    }\n",
       "\n",
       "    .dataframe tbody tr th {\n",
       "        vertical-align: top;\n",
       "    }\n",
       "\n",
       "    .dataframe thead th {\n",
       "        text-align: right;\n",
       "    }\n",
       "</style>\n",
       "<table border=\"1\" class=\"dataframe\">\n",
       "  <thead>\n",
       "    <tr style=\"text-align: right;\">\n",
       "      <th></th>\n",
       "      <th>Attributes</th>\n",
       "      <th>Std</th>\n",
       "      <th>min</th>\n",
       "      <th>max</th>\n",
       "      <th>Range</th>\n",
       "      <th>mean</th>\n",
       "      <th>median</th>\n",
       "      <th>Skew</th>\n",
       "      <th>Kurtosis</th>\n",
       "    </tr>\n",
       "  </thead>\n",
       "  <tbody>\n",
       "    <tr>\n",
       "      <th>0</th>\n",
       "      <td>cpi</td>\n",
       "      <td>0.340103</td>\n",
       "      <td>-0.59</td>\n",
       "      <td>2.19</td>\n",
       "      <td>2.78</td>\n",
       "      <td>0.473004</td>\n",
       "      <td>0.44</td>\n",
       "      <td>1.081433</td>\n",
       "      <td>3.933787</td>\n",
       "    </tr>\n",
       "    <tr>\n",
       "      <th>1</th>\n",
       "      <td>exchange_rate</td>\n",
       "      <td>1.031950</td>\n",
       "      <td>1.56</td>\n",
       "      <td>5.65</td>\n",
       "      <td>4.09</td>\n",
       "      <td>2.807892</td>\n",
       "      <td>2.41</td>\n",
       "      <td>1.035665</td>\n",
       "      <td>0.447822</td>\n",
       "    </tr>\n",
       "    <tr>\n",
       "      <th>2</th>\n",
       "      <td>interest_rate</td>\n",
       "      <td>5.123448</td>\n",
       "      <td>1.57</td>\n",
       "      <td>28.02</td>\n",
       "      <td>26.45</td>\n",
       "      <td>11.362825</td>\n",
       "      <td>10.95</td>\n",
       "      <td>0.570216</td>\n",
       "      <td>0.615377</td>\n",
       "    </tr>\n",
       "  </tbody>\n",
       "</table>\n",
       "</div>"
      ],
      "text/plain": [
       "      Attributes       Std   min    max  Range       mean  median      Skew  \\\n",
       "0            cpi  0.340103 -0.59   2.19   2.78   0.473004    0.44  1.081433   \n",
       "1  exchange_rate  1.031950  1.56   5.65   4.09   2.807892    2.41  1.035665   \n",
       "2  interest_rate  5.123448  1.57  28.02  26.45  11.362825   10.95  0.570216   \n",
       "\n",
       "   Kurtosis  \n",
       "0  3.933787  \n",
       "1  0.447822  \n",
       "2  0.615377  "
      ]
     },
     "metadata": {},
     "execution_count": 150
    }
   ],
   "metadata": {}
  },
  {
   "cell_type": "markdown",
   "source": [
    "# **2.0 Modelling**"
   ],
   "metadata": {}
  },
  {
   "cell_type": "code",
   "execution_count": 151,
   "source": [
    "df2 = df1.copy()\r\n",
    "df2.dtypes"
   ],
   "outputs": [
    {
     "output_type": "execute_result",
     "data": {
      "text/plain": [
       "date             datetime64[ns]\n",
       "cpi                     float64\n",
       "exchange_rate           float64\n",
       "interest_rate           float64\n",
       "dtype: object"
      ]
     },
     "metadata": {},
     "execution_count": 151
    }
   ],
   "metadata": {}
  },
  {
   "cell_type": "markdown",
   "source": [
    "## **2.1 Plotting series**"
   ],
   "metadata": {}
  },
  {
   "cell_type": "code",
   "execution_count": 152,
   "source": [
    "crb = crb['Close']\r\n",
    "df2['crb_index'] = crb "
   ],
   "outputs": [],
   "metadata": {}
  },
  {
   "cell_type": "code",
   "execution_count": 169,
   "source": [
    "plt.style.use('ggplot')\r\n",
    "plt.figure(figsize=(12,6))\r\n",
    "plt.subplot(2, 2, 1)\r\n",
    "plt.plot(df2['cpi'], color = 'b')\r\n",
    "plt.title('IPCA-15 Monthly: 2003 - 2021')\r\n",
    "\r\n",
    "plt.subplot(2, 2, 2)\r\n",
    "plt.plot(df2['exchange_rate'], color = 'r')\r\n",
    "plt.title('USD/BRL Monthly: 2003 - 2021')\r\n",
    "\r\n",
    "plt.subplot(2, 2, 3)\r\n",
    "plt.plot(df2['interest_rate'], color = 'c')\r\n",
    "plt.title('Brazilian Interest rate: 2003 - 2021')\r\n",
    "\r\n",
    "plt.subplot(2, 2, 4)\r\n",
    "plt.plot(df2['crb_index'], color = 'g')\r\n",
    "plt.title('CRB Index: 2003 - 2021')\r\n"
   ],
   "outputs": [
    {
     "output_type": "execute_result",
     "data": {
      "text/plain": [
       "Text(0.5, 1.0, 'CRB Index: 2003 - 2021')"
      ]
     },
     "metadata": {},
     "execution_count": 169
    },
    {
     "output_type": "display_data",
     "data": {
      "image/png": "[encoded data removed]",
      "text/plain": [
       "<Figure size 864x432 with 4 Axes>"
      ]
     },
     "metadata": {}
    }
   ],
   "metadata": {}
  },
  {
   "cell_type": "markdown",
   "source": [
    "## **2.2 Check if series are stacionary**"
   ],
   "metadata": {}
  },
  {
   "cell_type": "code",
   "execution_count": 164,
   "source": [
    "df2.head()"
   ],
   "outputs": [
    {
     "output_type": "execute_result",
     "data": {
      "text/html": [
       "<div>\n",
       "<style scoped>\n",
       "    .dataframe tbody tr th:only-of-type {\n",
       "        vertical-align: middle;\n",
       "    }\n",
       "\n",
       "    .dataframe tbody tr th {\n",
       "        vertical-align: top;\n",
       "    }\n",
       "\n",
       "    .dataframe thead th {\n",
       "        text-align: right;\n",
       "    }\n",
       "</style>\n",
       "<table border=\"1\" class=\"dataframe\">\n",
       "  <thead>\n",
       "    <tr style=\"text-align: right;\">\n",
       "      <th></th>\n",
       "      <th>date</th>\n",
       "      <th>cpi</th>\n",
       "      <th>exchange_rate</th>\n",
       "      <th>interest_rate</th>\n",
       "      <th>crb_index</th>\n",
       "    </tr>\n",
       "  </thead>\n",
       "  <tbody>\n",
       "    <tr>\n",
       "      <th>0</th>\n",
       "      <td>2003-01-01</td>\n",
       "      <td>1.98</td>\n",
       "      <td>3.44</td>\n",
       "      <td>26.38</td>\n",
       "      <td>210.61</td>\n",
       "    </tr>\n",
       "    <tr>\n",
       "      <th>1</th>\n",
       "      <td>2003-01-01</td>\n",
       "      <td>2.19</td>\n",
       "      <td>3.59</td>\n",
       "      <td>24.31</td>\n",
       "      <td>221.97</td>\n",
       "    </tr>\n",
       "    <tr>\n",
       "      <th>2</th>\n",
       "      <td>2003-01-01</td>\n",
       "      <td>1.14</td>\n",
       "      <td>3.45</td>\n",
       "      <td>23.58</td>\n",
       "      <td>204.24</td>\n",
       "    </tr>\n",
       "    <tr>\n",
       "      <th>3</th>\n",
       "      <td>2003-01-01</td>\n",
       "      <td>1.14</td>\n",
       "      <td>3.12</td>\n",
       "      <td>24.90</td>\n",
       "      <td>199.95</td>\n",
       "    </tr>\n",
       "    <tr>\n",
       "      <th>4</th>\n",
       "      <td>2003-01-01</td>\n",
       "      <td>0.85</td>\n",
       "      <td>2.95</td>\n",
       "      <td>26.38</td>\n",
       "      <td>208.64</td>\n",
       "    </tr>\n",
       "  </tbody>\n",
       "</table>\n",
       "</div>"
      ],
      "text/plain": [
       "        date   cpi  exchange_rate  interest_rate  crb_index\n",
       "0 2003-01-01  1.98           3.44          26.38     210.61\n",
       "1 2003-01-01  2.19           3.59          24.31     221.97\n",
       "2 2003-01-01  1.14           3.45          23.58     204.24\n",
       "3 2003-01-01  1.14           3.12          24.90     199.95\n",
       "4 2003-01-01  0.85           2.95          26.38     208.64"
      ]
     },
     "metadata": {},
     "execution_count": 164
    }
   ],
   "metadata": {}
  },
  {
   "cell_type": "code",
   "execution_count": 154,
   "source": [
    "df3 = df2.copy()"
   ],
   "outputs": [],
   "metadata": {}
  },
  {
   "cell_type": "markdown",
   "source": [
    "### **2.2.1 ADF Test (CPI)**"
   ],
   "metadata": {}
  },
  {
   "cell_type": "code",
   "execution_count": 155,
   "source": [
    "from statsmodels.tsa.stattools import adfuller\r\n",
    "result = adfuller(df2['cpi'])\r\n",
    "print(f'ADF Test:{result[0]}')\r\n",
    "print(f'p-value: {result[1]}')\r\n",
    "print(f'Our p-value was {result[1]} < 0.05.')"
   ],
   "outputs": [
    {
     "output_type": "stream",
     "name": "stdout",
     "text": [
      "ADF Test:-2.692329475988519\n",
      "p-value: 0.07537503614345596\n",
      "Our p-value was 0.07537503614345596 < 0.05.\n"
     ]
    }
   ],
   "metadata": {}
  },
  {
   "cell_type": "code",
   "execution_count": 156,
   "source": [
    "result1 = adfuller(df2['exchange_rate'])\r\n",
    "print(f'ADF Test:{result1[0]}')\r\n",
    "print(f'p-value: {result1[1]}')\r\n",
    "print(f'Our p-value was {result1[1]} < 0.05.')\r\n",
    "\r\n",
    "\r\n"
   ],
   "outputs": [
    {
     "output_type": "stream",
     "name": "stdout",
     "text": [
      "ADF Test:-0.04510485610230285\n",
      "p-value: 0.9546391560927899\n",
      "Our p-value was 0.9546391560927899 < 0.05.\n"
     ]
    }
   ],
   "metadata": {}
  },
  {
   "cell_type": "code",
   "execution_count": 157,
   "source": [
    "\r\n",
    "result2 = adfuller(df2['interest_rate'])\r\n",
    "print(f'ADF Test:{result2[0]}')\r\n",
    "print(f'p-value: {result2[1]}')\r\n",
    "print(f'Our p-value was {result2[1]} < 0.05.')\r\n"
   ],
   "outputs": [
    {
     "output_type": "stream",
     "name": "stdout",
     "text": [
      "ADF Test:-1.6915078005282496\n",
      "p-value: 0.43549313950646484\n",
      "Our p-value was 0.43549313950646484 < 0.05.\n"
     ]
    }
   ],
   "metadata": {}
  },
  {
   "cell_type": "code",
   "execution_count": 158,
   "source": [
    "\r\n",
    "result3 = adfuller(df2['crb_index'])\r\n",
    "print(f'ADF Test:{result3[0]}')\r\n",
    "print(f'p-value: {result3[1]}')\r\n",
    "print(f'Our p-value was {result3[1]} < 0.05.')"
   ],
   "outputs": [
    {
     "output_type": "stream",
     "name": "stdout",
     "text": [
      "ADF Test:-2.1789556968976864\n",
      "p-value: 0.21397178189485766\n",
      "Our p-value was 0.21397178189485766 < 0.05.\n"
     ]
    }
   ],
   "metadata": {}
  },
  {
   "cell_type": "markdown",
   "source": [
    "## **2.3 Diff**"
   ],
   "metadata": {}
  },
  {
   "cell_type": "code",
   "execution_count": 159,
   "source": [
    "from statsmodels.tsa.statespace.tools import diff\r\n",
    "df3['exchange_rate'] = df3['exchange_rate'].diff()\r\n",
    "df3['interest_rate'] = df3['interest_rate'].diff()\r\n",
    "df3['crb_index'] = df3['crb_index'].diff()\r\n",
    "df3.dropna(inplace=True)\r\n"
   ],
   "outputs": [],
   "metadata": {}
  },
  {
   "cell_type": "code",
   "execution_count": 160,
   "source": [
    "result1 = adfuller(df3['exchange_rate'])\r\n",
    "print(f'ADF Test:{result1[0]}')\r\n",
    "print(f'p-value: {result1[1]}')\r\n",
    "#print(f'Our p-value was {result1[1]} < 0.05.')\r\n",
    "\r\n",
    "\r\n"
   ],
   "outputs": [
    {
     "output_type": "stream",
     "name": "stdout",
     "text": [
      "ADF Test:-5.432674162766991\n",
      "p-value: 2.8911013712790653e-06\n"
     ]
    }
   ],
   "metadata": {}
  },
  {
   "cell_type": "code",
   "execution_count": 161,
   "source": [
    "\r\n",
    "result2 = adfuller(df3['interest_rate'])\r\n",
    "print(f'ADF Test:{result2[0]}')\r\n",
    "print(f'p-value: {result2[1]}')\r\n",
    "#print(f'Our p-value was {result2[1]} < 0.05.')\r\n"
   ],
   "outputs": [
    {
     "output_type": "stream",
     "name": "stdout",
     "text": [
      "ADF Test:-5.0800775215366905\n",
      "p-value: 1.5371445163119362e-05\n"
     ]
    }
   ],
   "metadata": {}
  },
  {
   "cell_type": "code",
   "execution_count": 162,
   "source": [
    "\r\n",
    "result3 = adfuller(df3['crb_index'])\r\n",
    "print(f'ADF Test:{result3[0]}')\r\n",
    "print(f'p-value: {result3[1]}')\r\n",
    "#print(f'Our p-value was {result3[1]} < 0.05.')"
   ],
   "outputs": [
    {
     "output_type": "stream",
     "name": "stdout",
     "text": [
      "ADF Test:-8.26940128107525\n",
      "p-value: 4.83892902087737e-13\n"
     ]
    }
   ],
   "metadata": {}
  },
  {
   "cell_type": "markdown",
   "source": [
    "## **2.4 Testing Causation using Granger’s Causality Test**"
   ],
   "metadata": {}
  },
  {
   "cell_type": "code",
   "execution_count": null,
   "source": [],
   "outputs": [],
   "metadata": {}
  },
  {
   "cell_type": "code",
   "execution_count": null,
   "source": [],
   "outputs": [],
   "metadata": {}
  }
 ],
 "metadata": {
  "orig_nbformat": 4,
  "language_info": {
   "name": "python",
   "version": "3.9.6",
   "mimetype": "text/x-python",
   "codemirror_mode": {
    "name": "ipython",
    "version": 3
   },
   "pygments_lexer": "ipython3",
   "nbconvert_exporter": "python",
   "file_extension": ".py"
  },
  "kernelspec": {
   "name": "python3",
   "display_name": "Python 3.9.6 64-bit ('venv': venv)"
  },
  "interpreter": {
   "hash": "c4ee5e97526d4ef7f04ea9f7e528fae8eb6b62aa0b9ad7f79a2991d47b66d248"
  }
 },
 "nbformat": 4,
 "nbformat_minor": 2
}