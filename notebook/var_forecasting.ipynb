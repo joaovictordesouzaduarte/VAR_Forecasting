{
 "cells": [
  {
   "cell_type": "markdown",
   "source": [
    "# **0. Imports**"
   ],
   "metadata": {}
  },
  {
   "cell_type": "code",
   "execution_count": 41,
   "source": [
    "import pandas as pd\r\n",
    "import numpy as np"
   ],
   "outputs": [],
   "metadata": {}
  },
  {
   "cell_type": "markdown",
   "source": [
    "## **0.1 Data**"
   ],
   "metadata": {}
  },
  {
   "cell_type": "code",
   "execution_count": 59,
   "source": [
    "data = pd.read_csv('../data/data_trab2_econometria.csv')"
   ],
   "outputs": [],
   "metadata": {}
  },
  {
   "cell_type": "code",
   "execution_count": 45,
   "source": [],
   "outputs": [
    {
     "output_type": "execute_result",
     "data": {
      "text/html": [
       "<div>\n",
       "<style scoped>\n",
       "    .dataframe tbody tr th:only-of-type {\n",
       "        vertical-align: middle;\n",
       "    }\n",
       "\n",
       "    .dataframe tbody tr th {\n",
       "        vertical-align: top;\n",
       "    }\n",
       "\n",
       "    .dataframe thead th {\n",
       "        text-align: right;\n",
       "    }\n",
       "</style>\n",
       "<table border=\"1\" class=\"dataframe\">\n",
       "  <thead>\n",
       "    <tr style=\"text-align: right;\">\n",
       "      <th></th>\n",
       "      <th>Data</th>\n",
       "      <th>IPCA_ACUMULADO</th>\n",
       "      <th>EXP_MÉDIA_ACUMULADA_IPCA</th>\n",
       "      <th>CAMBIO</th>\n",
       "      <th>JUROS_NOMINAL</th>\n",
       "    </tr>\n",
       "  </thead>\n",
       "  <tbody>\n",
       "    <tr>\n",
       "      <th>0</th>\n",
       "      <td>2003.0</td>\n",
       "      <td>30.608719</td>\n",
       "      <td>11.346410</td>\n",
       "      <td>3.4376</td>\n",
       "      <td>26.377288</td>\n",
       "    </tr>\n",
       "    <tr>\n",
       "      <th>1</th>\n",
       "      <td>2003.0</td>\n",
       "      <td>20.558350</td>\n",
       "      <td>11.236605</td>\n",
       "      <td>3.5900</td>\n",
       "      <td>24.310818</td>\n",
       "    </tr>\n",
       "    <tr>\n",
       "      <th>2</th>\n",
       "      <td>2003.0</td>\n",
       "      <td>15.802754</td>\n",
       "      <td>10.598159</td>\n",
       "      <td>3.4461</td>\n",
       "      <td>23.580332</td>\n",
       "    </tr>\n",
       "    <tr>\n",
       "      <th>3</th>\n",
       "      <td>2003.0</td>\n",
       "      <td>12.280552</td>\n",
       "      <td>9.483520</td>\n",
       "      <td>3.1179</td>\n",
       "      <td>24.898055</td>\n",
       "    </tr>\n",
       "    <tr>\n",
       "      <th>4</th>\n",
       "      <td>2003.0</td>\n",
       "      <td>7.571674</td>\n",
       "      <td>9.137506</td>\n",
       "      <td>2.9549</td>\n",
       "      <td>26.377288</td>\n",
       "    </tr>\n",
       "  </tbody>\n",
       "</table>\n",
       "</div>"
      ],
      "text/plain": [
       "     Data  IPCA_ACUMULADO  EXP_MÉDIA_ACUMULADA_IPCA  CAMBIO  JUROS_NOMINAL\n",
       "0  2003.0       30.608719                 11.346410  3.4376      26.377288\n",
       "1  2003.0       20.558350                 11.236605  3.5900      24.310818\n",
       "2  2003.0       15.802754                 10.598159  3.4461      23.580332\n",
       "3  2003.0       12.280552                  9.483520  3.1179      24.898055\n",
       "4  2003.0        7.571674                  9.137506  2.9549      26.377288"
      ]
     },
     "metadata": {},
     "execution_count": 45
    }
   ],
   "metadata": {}
  },
  {
   "cell_type": "code",
   "execution_count": null,
   "source": [],
   "outputs": [],
   "metadata": {}
  }
 ],
 "metadata": {
  "orig_nbformat": 4,
  "language_info": {
   "name": "python",
   "version": "3.9.6",
   "mimetype": "text/x-python",
   "codemirror_mode": {
    "name": "ipython",
    "version": 3
   },
   "pygments_lexer": "ipython3",
   "nbconvert_exporter": "python",
   "file_extension": ".py"
  },
  "kernelspec": {
   "name": "python3",
   "display_name": "Python 3.9.6 64-bit ('venv': venv)"
  },
  "interpreter": {
   "hash": "aa6f462b3a5e6dec509d7c5e7e8b225b8593284cc477480a25dcb207b0b57d64"
  }
 },
 "nbformat": 4,
 "nbformat_minor": 2
}