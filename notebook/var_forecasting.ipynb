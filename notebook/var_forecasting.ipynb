{
 "cells": [
  {
   "cell_type": "markdown",
   "source": [
    "# **0. Imports**"
   ],
   "metadata": {}
  },
  {
   "cell_type": "code",
   "execution_count": 86,
   "source": [
    "import pandas as pd\r\n",
    "import numpy as np\r\n",
    "from datetime import datetime\r\n",
    "from scipy.stats import pearsonr\r\n",
    "#from statsmodels.graphics.tsaplots import plot_acf, plot_pacf\r\n",
    "#from statsmodels.tsa.api import VAR\r\n",
    "import matplotlib.pyplot as plt"
   ],
   "outputs": [],
   "metadata": {}
  },
  {
   "cell_type": "code",
   "execution_count": 92,
   "source": [
    "import statsmodels"
   ],
   "outputs": [
    {
     "output_type": "error",
     "ename": "ModuleNotFoundError",
     "evalue": "No module named 'statsmodels'",
     "traceback": [
      "\u001b[1;31m---------------------------------------------------------------------------\u001b[0m",
      "\u001b[1;31mModuleNotFoundError\u001b[0m                       Traceback (most recent call last)",
      "\u001b[1;32m~\\AppData\\Local\\Temp/ipykernel_7228/1671301342.py\u001b[0m in \u001b[0;36m<module>\u001b[1;34m\u001b[0m\n\u001b[1;32m----> 1\u001b[1;33m \u001b[1;32mimport\u001b[0m \u001b[0mstatsmodels\u001b[0m\u001b[1;33m\u001b[0m\u001b[1;33m\u001b[0m\u001b[0m\n\u001b[0m",
      "\u001b[1;31mModuleNotFoundError\u001b[0m: No module named 'statsmodels'"
     ]
    }
   ],
   "metadata": {}
  },
  {
   "cell_type": "markdown",
   "source": [
    "## **0.1 Load Dataset**"
   ],
   "metadata": {}
  },
  {
   "cell_type": "code",
   "execution_count": 70,
   "source": [
    "data = pd.read_csv('../data/data_trab2_econometria.csv')\r\n",
    "data.head()"
   ],
   "outputs": [
    {
     "output_type": "execute_result",
     "data": {
      "text/html": [
       "<div>\n",
       "<style scoped>\n",
       "    .dataframe tbody tr th:only-of-type {\n",
       "        vertical-align: middle;\n",
       "    }\n",
       "\n",
       "    .dataframe tbody tr th {\n",
       "        vertical-align: top;\n",
       "    }\n",
       "\n",
       "    .dataframe thead th {\n",
       "        text-align: right;\n",
       "    }\n",
       "</style>\n",
       "<table border=\"1\" class=\"dataframe\">\n",
       "  <thead>\n",
       "    <tr style=\"text-align: right;\">\n",
       "      <th></th>\n",
       "      <th>Data</th>\n",
       "      <th>inflacao</th>\n",
       "      <th>cambio</th>\n",
       "      <th>juros</th>\n",
       "    </tr>\n",
       "  </thead>\n",
       "  <tbody>\n",
       "    <tr>\n",
       "      <th>0</th>\n",
       "      <td>2003</td>\n",
       "      <td>1,98</td>\n",
       "      <td>3,44</td>\n",
       "      <td>26,38</td>\n",
       "    </tr>\n",
       "    <tr>\n",
       "      <th>1</th>\n",
       "      <td>2003</td>\n",
       "      <td>2,19</td>\n",
       "      <td>3,59</td>\n",
       "      <td>24,31</td>\n",
       "    </tr>\n",
       "    <tr>\n",
       "      <th>2</th>\n",
       "      <td>2003</td>\n",
       "      <td>1,14</td>\n",
       "      <td>3,45</td>\n",
       "      <td>23,58</td>\n",
       "    </tr>\n",
       "    <tr>\n",
       "      <th>3</th>\n",
       "      <td>2003</td>\n",
       "      <td>1,14</td>\n",
       "      <td>3,12</td>\n",
       "      <td>24,90</td>\n",
       "    </tr>\n",
       "    <tr>\n",
       "      <th>4</th>\n",
       "      <td>2003</td>\n",
       "      <td>0,85</td>\n",
       "      <td>2,95</td>\n",
       "      <td>26,38</td>\n",
       "    </tr>\n",
       "  </tbody>\n",
       "</table>\n",
       "</div>"
      ],
      "text/plain": [
       "   Data inflacao cambio  juros\n",
       "0  2003     1,98   3,44  26,38\n",
       "1  2003     2,19   3,59  24,31\n",
       "2  2003     1,14   3,45  23,58\n",
       "3  2003     1,14   3,12  24,90\n",
       "4  2003     0,85   2,95  26,38"
      ]
     },
     "metadata": {},
     "execution_count": 70
    }
   ],
   "metadata": {}
  },
  {
   "cell_type": "markdown",
   "source": [
    "# **1.0 Data Description**"
   ],
   "metadata": {}
  },
  {
   "cell_type": "code",
   "execution_count": 71,
   "source": [
    "df1 = data.copy()"
   ],
   "outputs": [],
   "metadata": {}
  },
  {
   "cell_type": "markdown",
   "source": [
    "## **1.1 Rename columns**"
   ],
   "metadata": {}
  },
  {
   "cell_type": "code",
   "execution_count": 72,
   "source": [
    "cols_new = ['date','cpi', 'exchange_rate','interest_rate']\r\n",
    "df1.columns = cols_new"
   ],
   "outputs": [],
   "metadata": {}
  },
  {
   "cell_type": "markdown",
   "source": [
    "## **1.2 Data Dimensions**"
   ],
   "metadata": {}
  },
  {
   "cell_type": "code",
   "execution_count": 73,
   "source": [
    "print('Number of rows:', format(df1.shape[0]))\r\n",
    "print('Number of columns:', format(df1.shape[1]))"
   ],
   "outputs": [
    {
     "output_type": "stream",
     "name": "stdout",
     "text": [
      "Number of rows: 223\n",
      "Number of columns: 4\n"
     ]
    }
   ],
   "metadata": {}
  },
  {
   "cell_type": "markdown",
   "source": [
    "## **1.3 Data types**"
   ],
   "metadata": {}
  },
  {
   "cell_type": "code",
   "execution_count": 74,
   "source": [
    "df1.dtypes"
   ],
   "outputs": [
    {
     "output_type": "execute_result",
     "data": {
      "text/plain": [
       "date              int64\n",
       "cpi              object\n",
       "exchange_rate    object\n",
       "interest_rate    object\n",
       "dtype: object"
      ]
     },
     "metadata": {},
     "execution_count": 74
    }
   ],
   "metadata": {}
  },
  {
   "cell_type": "markdown",
   "source": [
    "## **1.4 Check NA**"
   ],
   "metadata": {}
  },
  {
   "cell_type": "code",
   "execution_count": 75,
   "source": [
    "df1.isna().sum()"
   ],
   "outputs": [
    {
     "output_type": "execute_result",
     "data": {
      "text/plain": [
       "date             0\n",
       "cpi              0\n",
       "exchange_rate    0\n",
       "interest_rate    0\n",
       "dtype: int64"
      ]
     },
     "metadata": {},
     "execution_count": 75
    }
   ],
   "metadata": {}
  },
  {
   "cell_type": "markdown",
   "source": [
    "## **1.5 Change Types**"
   ],
   "metadata": {}
  },
  {
   "cell_type": "code",
   "execution_count": 76,
   "source": [
    "df1['date'] = pd.to_datetime(df1['date'].astype(str))\r\n",
    "#change comma to point decimal\r\n",
    "\r\n",
    "cols = ['cpi', 'exchange_rate', 'interest_rate']\r\n",
    "\r\n",
    "for col in cols:\r\n",
    "    df1[col] = df1[col].apply(lambda x: x.replace(',', '.'))\r\n",
    "\r\n"
   ],
   "outputs": [],
   "metadata": {}
  },
  {
   "cell_type": "code",
   "execution_count": 80,
   "source": [
    "df1['cpi'] = df1['cpi'].astype('float64')\r\n",
    "df1['exchange_rate'] = df1['exchange_rate'].astype('float64')\r\n",
    "df1['interest_rate'] = df1['interest_rate'].astype('float64')\r\n"
   ],
   "outputs": [],
   "metadata": {}
  },
  {
   "cell_type": "markdown",
   "source": [
    "## **1.6 Descriptive Statistical**"
   ],
   "metadata": {}
  },
  {
   "cell_type": "code",
   "execution_count": 83,
   "source": [
    "num_attributes = df1.select_dtypes(include = ['int64', 'float64'])\r\n",
    "cat_attributes = df1.select_dtypes( exclude=['int64', 'float64', 'datetime64[ns]'])\r\n",
    "num_attributes"
   ],
   "outputs": [
    {
     "output_type": "execute_result",
     "data": {
      "text/html": [
       "<div>\n",
       "<style scoped>\n",
       "    .dataframe tbody tr th:only-of-type {\n",
       "        vertical-align: middle;\n",
       "    }\n",
       "\n",
       "    .dataframe tbody tr th {\n",
       "        vertical-align: top;\n",
       "    }\n",
       "\n",
       "    .dataframe thead th {\n",
       "        text-align: right;\n",
       "    }\n",
       "</style>\n",
       "<table border=\"1\" class=\"dataframe\">\n",
       "  <thead>\n",
       "    <tr style=\"text-align: right;\">\n",
       "      <th></th>\n",
       "      <th>cpi</th>\n",
       "      <th>exchange_rate</th>\n",
       "      <th>interest_rate</th>\n",
       "    </tr>\n",
       "  </thead>\n",
       "  <tbody>\n",
       "    <tr>\n",
       "      <th>0</th>\n",
       "      <td>1.980</td>\n",
       "      <td>3.440</td>\n",
       "      <td>26.380</td>\n",
       "    </tr>\n",
       "    <tr>\n",
       "      <th>1</th>\n",
       "      <td>2.190</td>\n",
       "      <td>3.590</td>\n",
       "      <td>24.310</td>\n",
       "    </tr>\n",
       "    <tr>\n",
       "      <th>2</th>\n",
       "      <td>1.140</td>\n",
       "      <td>3.450</td>\n",
       "      <td>23.580</td>\n",
       "    </tr>\n",
       "    <tr>\n",
       "      <th>3</th>\n",
       "      <td>1.140</td>\n",
       "      <td>3.120</td>\n",
       "      <td>24.900</td>\n",
       "    </tr>\n",
       "    <tr>\n",
       "      <th>4</th>\n",
       "      <td>0.850</td>\n",
       "      <td>2.950</td>\n",
       "      <td>26.380</td>\n",
       "    </tr>\n",
       "    <tr>\n",
       "      <th>...</th>\n",
       "      <td>...</td>\n",
       "      <td>...</td>\n",
       "      <td>...</td>\n",
       "    </tr>\n",
       "    <tr>\n",
       "      <th>218</th>\n",
       "      <td>0.930</td>\n",
       "      <td>5.650</td>\n",
       "      <td>2.430</td>\n",
       "    </tr>\n",
       "    <tr>\n",
       "      <th>219</th>\n",
       "      <td>0.600</td>\n",
       "      <td>5.560</td>\n",
       "      <td>2.550</td>\n",
       "    </tr>\n",
       "    <tr>\n",
       "      <th>220</th>\n",
       "      <td>0.440</td>\n",
       "      <td>5.290</td>\n",
       "      <td>3.290</td>\n",
       "    </tr>\n",
       "    <tr>\n",
       "      <th>221</th>\n",
       "      <td>0.830</td>\n",
       "      <td>5.030</td>\n",
       "      <td>3.780</td>\n",
       "    </tr>\n",
       "    <tr>\n",
       "      <th>222</th>\n",
       "      <td>0.720</td>\n",
       "      <td>5.160</td>\n",
       "      <td>4.410</td>\n",
       "    </tr>\n",
       "  </tbody>\n",
       "</table>\n",
       "<p>223 rows × 3 columns</p>\n",
       "</div>"
      ],
      "text/plain": [
       "      cpi  exchange_rate  interest_rate\n",
       "0   1.980          3.440         26.380\n",
       "1   2.190          3.590         24.310\n",
       "2   1.140          3.450         23.580\n",
       "3   1.140          3.120         24.900\n",
       "4   0.850          2.950         26.380\n",
       "..    ...            ...            ...\n",
       "218 0.930          5.650          2.430\n",
       "219 0.600          5.560          2.550\n",
       "220 0.440          5.290          3.290\n",
       "221 0.830          5.030          3.780\n",
       "222 0.720          5.160          4.410\n",
       "\n",
       "[223 rows x 3 columns]"
      ]
     },
     "metadata": {},
     "execution_count": 83
    }
   ],
   "metadata": {}
  },
  {
   "cell_type": "markdown",
   "source": [
    "### **1.5.1 Numerical Attributes**"
   ],
   "metadata": {}
  },
  {
   "cell_type": "code",
   "execution_count": 84,
   "source": [
    "#Central Tendency\r\n",
    "ct1 = pd.DataFrame(num_attributes.apply(np.mean)).T\r\n",
    "ct2 = pd.DataFrame(num_attributes.apply(np.median)).T\r\n",
    "\r\n",
    "\r\n",
    "#Dispersion\r\n",
    "d1 = pd.DataFrame(num_attributes.apply(np.std)).T\r\n",
    "d2 = pd.DataFrame(num_attributes.apply(min)).T\r\n",
    "d3 = pd.DataFrame(num_attributes.apply(max)).T\r\n",
    "d4 = pd.DataFrame(num_attributes.apply(lambda x: x.max() - x.min())).T\r\n",
    "d5 = pd.DataFrame(num_attributes.apply(lambda x: x.skew())).T\r\n",
    "d6 = pd.DataFrame(num_attributes.apply(lambda x: x.kurtosis())).T\r\n",
    "\r\n",
    "#Concat\r\n",
    "m = pd.concat([d1, d2, d3, d4, ct1, ct2, d5, d6]).T.reset_index()\r\n",
    "#m.columns = ['attributes', 'min', 'max', 'range', 'mean', 'median', 'std', 'skew', 'kurtosis']\r\n",
    "#m\r\n",
    "m.columns = ['Attributes', 'Std', 'min', 'max', 'Range', 'mean', 'median', 'Skew', 'Kurtosis']\r\n",
    "m"
   ],
   "outputs": [
    {
     "output_type": "execute_result",
     "data": {
      "text/html": [
       "<div>\n",
       "<style scoped>\n",
       "    .dataframe tbody tr th:only-of-type {\n",
       "        vertical-align: middle;\n",
       "    }\n",
       "\n",
       "    .dataframe tbody tr th {\n",
       "        vertical-align: top;\n",
       "    }\n",
       "\n",
       "    .dataframe thead th {\n",
       "        text-align: right;\n",
       "    }\n",
       "</style>\n",
       "<table border=\"1\" class=\"dataframe\">\n",
       "  <thead>\n",
       "    <tr style=\"text-align: right;\">\n",
       "      <th></th>\n",
       "      <th>Attributes</th>\n",
       "      <th>Std</th>\n",
       "      <th>min</th>\n",
       "      <th>max</th>\n",
       "      <th>Range</th>\n",
       "      <th>mean</th>\n",
       "      <th>median</th>\n",
       "      <th>Skew</th>\n",
       "      <th>Kurtosis</th>\n",
       "    </tr>\n",
       "  </thead>\n",
       "  <tbody>\n",
       "    <tr>\n",
       "      <th>0</th>\n",
       "      <td>cpi</td>\n",
       "      <td>0.340</td>\n",
       "      <td>-0.590</td>\n",
       "      <td>2.190</td>\n",
       "      <td>2.780</td>\n",
       "      <td>0.473</td>\n",
       "      <td>0.440</td>\n",
       "      <td>1.081</td>\n",
       "      <td>3.934</td>\n",
       "    </tr>\n",
       "    <tr>\n",
       "      <th>1</th>\n",
       "      <td>exchange_rate</td>\n",
       "      <td>1.032</td>\n",
       "      <td>1.560</td>\n",
       "      <td>5.650</td>\n",
       "      <td>4.090</td>\n",
       "      <td>2.808</td>\n",
       "      <td>2.410</td>\n",
       "      <td>1.036</td>\n",
       "      <td>0.448</td>\n",
       "    </tr>\n",
       "    <tr>\n",
       "      <th>2</th>\n",
       "      <td>interest_rate</td>\n",
       "      <td>5.123</td>\n",
       "      <td>1.570</td>\n",
       "      <td>28.020</td>\n",
       "      <td>26.450</td>\n",
       "      <td>11.363</td>\n",
       "      <td>10.950</td>\n",
       "      <td>0.570</td>\n",
       "      <td>0.615</td>\n",
       "    </tr>\n",
       "  </tbody>\n",
       "</table>\n",
       "</div>"
      ],
      "text/plain": [
       "      Attributes   Std    min    max  Range   mean  median  Skew  Kurtosis\n",
       "0            cpi 0.340 -0.590  2.190  2.780  0.473   0.440 1.081     3.934\n",
       "1  exchange_rate 1.032  1.560  5.650  4.090  2.808   2.410 1.036     0.448\n",
       "2  interest_rate 5.123  1.570 28.020 26.450 11.363  10.950 0.570     0.615"
      ]
     },
     "metadata": {},
     "execution_count": 84
    }
   ],
   "metadata": {}
  },
  {
   "cell_type": "markdown",
   "source": [
    "# **2.0 Modelling**"
   ],
   "metadata": {}
  },
  {
   "cell_type": "code",
   "execution_count": null,
   "source": [],
   "outputs": [],
   "metadata": {}
  },
  {
   "cell_type": "code",
   "execution_count": null,
   "source": [],
   "outputs": [],
   "metadata": {}
  },
  {
   "cell_type": "code",
   "execution_count": null,
   "source": [],
   "outputs": [],
   "metadata": {}
  },
  {
   "cell_type": "code",
   "execution_count": null,
   "source": [],
   "outputs": [],
   "metadata": {}
  },
  {
   "cell_type": "code",
   "execution_count": null,
   "source": [],
   "outputs": [],
   "metadata": {}
  },
  {
   "cell_type": "code",
   "execution_count": null,
   "source": [],
   "outputs": [],
   "metadata": {}
  }
 ],
 "metadata": {
  "orig_nbformat": 4,
  "language_info": {
   "name": "python",
   "version": "3.9.6",
   "mimetype": "text/x-python",
   "codemirror_mode": {
    "name": "ipython",
    "version": 3
   },
   "pygments_lexer": "ipython3",
   "nbconvert_exporter": "python",
   "file_extension": ".py"
  },
  "kernelspec": {
   "name": "python3",
   "display_name": "Python 3.9.6 64-bit ('venv': venv)"
  },
  "interpreter": {
   "hash": "aa6f462b3a5e6dec509d7c5e7e8b225b8593284cc477480a25dcb207b0b57d64"
  }
 },
 "nbformat": 4,
 "nbformat_minor": 2
}